{
 "cells": [
  {
   "cell_type": "markdown",
   "id": "ba092965",
   "metadata": {},
   "source": [
    "This notebook is about classifying tcr based on its specificity. We use k-neighbours here. Considering the dataset size and the complexity of tcr, for human, we pick the most 10 antigen epitopes(for both gene). For mouse, for each gene, we pick the most 10 antigen epitopes separately."
   ]
  },
  {
   "cell_type": "code",
   "execution_count": 1,
   "id": "9c9b391f",
   "metadata": {},
   "outputs": [],
   "source": [
    "import pandas as pd\n",
    "import numpy as np\n",
    "from tcrdist.repertoire import TCRrep\n",
    "from sklearn.neighbors import KNeighborsClassifier\n",
    "from sklearn.model_selection import train_test_split\n",
    "from sklearn.metrics import accuracy_score, f1_score, classification_report"
   ]
  },
  {
   "cell_type": "code",
   "execution_count": 2,
   "id": "65c5c7b5",
   "metadata": {},
   "outputs": [],
   "source": [
    "# load data\n",
    "data = pd.read_csv('vdjdb.txt', sep = '\\t')\n",
    "data = data.drop(['web.method', 'web.method.seq', 'web.cdr3fix.nc','web.cdr3fix.unmp','reference.id', 'method', 'meta', 'cdr3fix'], axis=1)\n",
    "data_clean = data.dropna()\n",
    "# top10 = data_clean['antigen.epitope'].value_counts().head(10).index\n",
    "\n",
    "# human alpha\n",
    "data_alpha = data_clean[(data_clean['gene'] == 'TRA') & (data_clean['complex.id'] == 0)]\n",
    "data_alpha_human_test = data_alpha[data_alpha['species'] == 'HomoSapiens']\n",
    "data_alpha_human_test = data_alpha_human_test.rename(columns = {'gene':'gene_a',\n",
    "                                           'cdr3':'cdr3_a_aa',\n",
    "                                           'v.segm':'v_a_gene',\n",
    "                                           'j.segm':'j_a_gene'})\n",
    "top10 = data_alpha_human_test['antigen.epitope'].value_counts().head(10).index\n",
    "alpha_top10_classification = data_alpha_human_test[data_alpha_human_test['antigen.epitope'].isin(top10)]\n",
    "\n",
    "# human beta\n",
    "data_beta = data_clean[(data_clean['gene'] == 'TRB') & (data_clean['complex.id'] == 0)]\n",
    "data_test_human_beta = data_beta[data_beta['species'] == 'HomoSapiens']\n",
    "data_test_human_beta = data_test_human_beta.rename(columns = {'gene':'gene_b',\n",
    "                                           'cdr3':'cdr3_b_aa',\n",
    "                                           'v.segm':'v_b_gene',\n",
    "                                           'j.segm':'j_b_gene'})\n",
    "top10 = data_test_human_beta['antigen.epitope'].value_counts().head(10).index\n",
    "beta_top10_classification = data_test_human_beta[data_test_human_beta['antigen.epitope'].isin(top10)]\n",
    "\n",
    "# mouse alpha\n",
    "data_alpha = data_clean[(data_clean['gene'] == 'TRA')]\n",
    "data_alpha_mouse = data_alpha[(data_alpha['species'] == 'MusMusculus')]\n",
    "data_alpha_mouse = data_alpha_mouse.rename(columns = {'gene':'gene_a',\n",
    "                                           'cdr3':'cdr3_a_aa',\n",
    "                                           'v.segm':'v_a_gene',\n",
    "                                           'j.segm':'j_a_gene'})\n",
    "top10_mouse_alpha = data_alpha_mouse['antigen.epitope'].value_counts().head(10).index\n",
    "data_alpha_mouse = data_alpha_mouse[data_alpha_mouse['antigen.epitope'].isin(top10_mouse_alpha)]\n",
    "\n",
    "# mouse beta\n",
    "data_beta = data_clean[(data_clean['gene'] == 'TRB')]\n",
    "data_beta_mouse = data_beta[(data_beta['species'] == 'MusMusculus')]\n",
    "data_beta_mouse = data_beta_mouse.rename(columns = {'gene':'gene_b',\n",
    "                                           'cdr3':'cdr3_b_aa',\n",
    "                                           'v.segm':'v_b_gene',\n",
    "                                           'j.segm':'j_b_gene'})\n",
    "top10_mouse_beta = data_beta_mouse['antigen.epitope'].value_counts().head(10).index\n",
    "data_beta_mouse = data_beta_mouse[data_beta_mouse['antigen.epitope'].isin(top10_mouse_beta)]"
   ]
  },
  {
   "cell_type": "markdown",
   "id": "5e41557e",
   "metadata": {},
   "source": [
    "# Alpha human"
   ]
  },
  {
   "cell_type": "code",
   "execution_count": 3,
   "id": "b0cb185e",
   "metadata": {},
   "outputs": [],
   "source": [
    "Xtrain, Xtest, ytrain, ytest = train_test_split(alpha_top10_classification, alpha_top10_classification['antigen.epitope'], test_size=0.2, random_state=12)"
   ]
  },
  {
   "cell_type": "code",
   "execution_count": 4,
   "id": "dc510034",
   "metadata": {},
   "outputs": [
    {
     "name": "stderr",
     "output_type": "stream",
     "text": [
      "C:\\Users\\54284\\AppData\\Roaming\\Python\\Python311\\site-packages\\tcrdist\\repertoire.py:159: UserWarning: cell_df needs a counts column to track clonal number of frequency\n",
      "\n",
      "  self._validate_cell_df()\n",
      "C:\\Users\\54284\\AppData\\Roaming\\Python\\Python311\\site-packages\\tcrdist\\repertoire.py:791: UserWarning: No 'count' column provided; count column set to 1\n",
      "  warnings.warn(\"No 'count' column provided; count column set to 1\")\n",
      "C:\\Users\\54284\\AppData\\Roaming\\Python\\Python311\\site-packages\\tcrdist\\repertoire.py:833: FutureWarning: The provided callable <function sum at 0x00000214294D8900> is currently using SeriesGroupBy.sum. In a future version of pandas, the provided callable will be used directly. To keep current behavior pass the string \"sum\" instead.\n",
      "  clones = cell_df.groupby(index_cols)['count'].agg(np.sum).reset_index()\n",
      "C:\\Users\\54284\\AppData\\Roaming\\Python\\Python311\\site-packages\\tcrdist\\repertoire.py:159: UserWarning: cell_df needs a counts column to track clonal number of frequency\n",
      "\n",
      "  self._validate_cell_df()\n",
      "C:\\Users\\54284\\AppData\\Roaming\\Python\\Python311\\site-packages\\tcrdist\\repertoire.py:791: UserWarning: No 'count' column provided; count column set to 1\n",
      "  warnings.warn(\"No 'count' column provided; count column set to 1\")\n",
      "C:\\Users\\54284\\AppData\\Roaming\\Python\\Python311\\site-packages\\tcrdist\\repertoire.py:833: FutureWarning: The provided callable <function sum at 0x00000214294D8900> is currently using SeriesGroupBy.sum. In a future version of pandas, the provided callable will be used directly. To keep current behavior pass the string \"sum\" instead.\n",
      "  clones = cell_df.groupby(index_cols)['count'].agg(np.sum).reset_index()\n"
     ]
    }
   ],
   "source": [
    "Xtrain_  = TCRrep(cell_df = Xtrain, \n",
    "            organism = 'human', \n",
    "            chains = ['alpha'], \n",
    "            db_file = 'alphabeta_gammadelta_db.tsv')\n",
    "\n",
    "ytrain = Xtrain_.clone_df['antigen.epitope']\n",
    "Xtrain = Xtrain_.pw_alpha\n",
    "\n",
    "Xtest_ = TCRrep(cell_df = Xtest,             \n",
    "            organism = 'human', \n",
    "            chains = ['alpha'], \n",
    "            compute_distances = False)\n",
    "\n",
    "Xtest_.compute_rect_distances(df = Xtest_.clone_df, df2 = Xtrain_.clone_df)\n",
    "\n",
    "Xtest = Xtest_.rw_alpha\n",
    "ytest = Xtest_.clone_df['antigen.epitope']"
   ]
  },
  {
   "cell_type": "code",
   "execution_count": 5,
   "id": "5f153ab6",
   "metadata": {},
   "outputs": [
    {
     "name": "stdout",
     "output_type": "stream",
     "text": [
      "Accuracy: 0.62\n",
      "F1 Score: 0.57\n",
      "                      precision    recall  f1-score   support\n",
      "\n",
      "FRDYVDRFYKTLRAEQASQE       0.79      0.91      0.85        58\n",
      "           GILGFVFTL       0.68      0.61      0.64       500\n",
      "      GLIYNRMGAVTTEV       0.60      0.31      0.41        29\n",
      "           LLLGIGILV       0.58      0.53      0.56        85\n",
      "           LLWNGPMAV       0.64      0.45      0.53        20\n",
      "            NEGVKAAW       0.89      0.65      0.75        49\n",
      "           NLVPMVATV       0.53      0.65      0.58       384\n",
      "       PKYVKQNTLKLAT       0.33      0.12      0.17        17\n",
      "    QARQMVQAMRTIGTHP       0.45      0.47      0.46        19\n",
      "           YLQPRTFLL       0.76      0.74      0.75        81\n",
      "\n",
      "            accuracy                           0.62      1242\n",
      "           macro avg       0.63      0.55      0.57      1242\n",
      "        weighted avg       0.63      0.62      0.62      1242\n",
      "\n"
     ]
    }
   ],
   "source": [
    "knn = KNeighborsClassifier(n_neighbors=15, metric='precomputed', weights='distance')\n",
    "\n",
    "# Fit the classifier on the training data\n",
    "model=knn.fit(Xtrain, ytrain)\n",
    "\n",
    "# Make a prediction on the training data\n",
    "Ypred=model.predict(Xtest)\n",
    "\n",
    "\n",
    "accuracy = accuracy_score(ytest, Ypred)\n",
    "f1 = f1_score(ytest, Ypred, average='macro') \n",
    "\n",
    "print(f'Accuracy: {accuracy:.2f}')\n",
    "print(f'F1 Score: {f1:.2f}')\n",
    "\n",
    "print(classification_report(ytest, Ypred))"
   ]
  },
  {
   "cell_type": "markdown",
   "id": "e3bb448f",
   "metadata": {},
   "source": [
    "# beta human"
   ]
  },
  {
   "cell_type": "code",
   "execution_count": 6,
   "id": "d0a885d8",
   "metadata": {},
   "outputs": [],
   "source": [
    "Xtrain, Xtest, ytrain, ytest = train_test_split(beta_top10_classification, beta_top10_classification['antigen.epitope'], test_size=0.3, random_state=12)"
   ]
  },
  {
   "cell_type": "code",
   "execution_count": 7,
   "id": "e3a05098",
   "metadata": {},
   "outputs": [
    {
     "name": "stderr",
     "output_type": "stream",
     "text": [
      "C:\\Users\\54284\\AppData\\Roaming\\Python\\Python311\\site-packages\\tcrdist\\repertoire.py:159: UserWarning: cell_df needs a counts column to track clonal number of frequency\n",
      "\n",
      "  self._validate_cell_df()\n",
      "C:\\Users\\54284\\AppData\\Roaming\\Python\\Python311\\site-packages\\tcrdist\\repertoire.py:791: UserWarning: No 'count' column provided; count column set to 1\n",
      "  warnings.warn(\"No 'count' column provided; count column set to 1\")\n",
      "C:\\Users\\54284\\AppData\\Roaming\\Python\\Python311\\site-packages\\tcrdist\\repertoire.py:833: FutureWarning: The provided callable <function sum at 0x00000214294D8900> is currently using SeriesGroupBy.sum. In a future version of pandas, the provided callable will be used directly. To keep current behavior pass the string \"sum\" instead.\n",
      "  clones = cell_df.groupby(index_cols)['count'].agg(np.sum).reset_index()\n",
      "C:\\Users\\54284\\AppData\\Roaming\\Python\\Python311\\site-packages\\tcrdist\\repertoire.py:159: UserWarning: cell_df needs a counts column to track clonal number of frequency\n",
      "\n",
      "  self._validate_cell_df()\n",
      "C:\\Users\\54284\\AppData\\Roaming\\Python\\Python311\\site-packages\\tcrdist\\repertoire.py:791: UserWarning: No 'count' column provided; count column set to 1\n",
      "  warnings.warn(\"No 'count' column provided; count column set to 1\")\n",
      "C:\\Users\\54284\\AppData\\Roaming\\Python\\Python311\\site-packages\\tcrdist\\repertoire.py:833: FutureWarning: The provided callable <function sum at 0x00000214294D8900> is currently using SeriesGroupBy.sum. In a future version of pandas, the provided callable will be used directly. To keep current behavior pass the string \"sum\" instead.\n",
      "  clones = cell_df.groupby(index_cols)['count'].agg(np.sum).reset_index()\n"
     ]
    }
   ],
   "source": [
    "Xtrain_  = TCRrep(cell_df = Xtrain, \n",
    "            organism = 'human', \n",
    "            chains = ['beta'], \n",
    "            db_file = 'alphabeta_gammadelta_db.tsv')\n",
    "\n",
    "ytrain = Xtrain_.clone_df['antigen.epitope']\n",
    "Xtrain = Xtrain_.pw_beta\n",
    "\n",
    "Xtest_ = TCRrep(cell_df = Xtest,               \n",
    "            organism = 'human', \n",
    "            chains = ['beta'], \n",
    "            compute_distances = False)\n",
    "\n",
    "Xtest_.compute_rect_distances(df = Xtest_.clone_df, df2 = Xtrain_.clone_df)\n",
    "\n",
    "Xtest = Xtest_.rw_beta\n",
    "ytest = Xtest_.clone_df['antigen.epitope']"
   ]
  },
  {
   "cell_type": "code",
   "execution_count": 8,
   "id": "465a7d52",
   "metadata": {},
   "outputs": [
    {
     "name": "stdout",
     "output_type": "stream",
     "text": [
      "Accuracy: 0.66\n",
      "F1 Score: 0.58\n",
      "                      precision    recall  f1-score   support\n",
      "\n",
      "          ELAGIGILTV       0.84      0.73      0.78       471\n",
      "FRDYVDRFYKTLRAEQASQE       0.80      0.95      0.87       146\n",
      "           GILGFVFTL       0.80      0.57      0.66       890\n",
      "           GLCTLVAML       0.65      0.33      0.44       302\n",
      "         KAFSPEVIPMF       0.81      0.60      0.69        96\n",
      "          KRWIILGLNK       0.72      0.53      0.61       173\n",
      "     LLQTGIHVRVSQPSL       0.75      0.04      0.07        85\n",
      "           NLVPMVATV       0.56      0.83      0.67      1361\n",
      "       PKYVKQNTLKLAT       0.74      0.15      0.24        96\n",
      "           YLQPRTFLL       0.70      0.77      0.73       180\n",
      "\n",
      "            accuracy                           0.66      3800\n",
      "           macro avg       0.74      0.55      0.58      3800\n",
      "        weighted avg       0.70      0.66      0.65      3800\n",
      "\n"
     ]
    }
   ],
   "source": [
    "knn = KNeighborsClassifier(n_neighbors=25, metric='precomputed', weights='distance')\n",
    "\n",
    "# Fit the classifier on the training data\n",
    "model=knn.fit(Xtrain, ytrain)\n",
    "\n",
    "# Make a prediction on the training data\n",
    "Ypred=model.predict(Xtest)\n",
    "\n",
    "\n",
    "accuracy = accuracy_score(ytest, Ypred)\n",
    "f1 = f1_score(ytest, Ypred, average='macro') \n",
    "\n",
    "print(f'Accuracy: {accuracy:.2f}')\n",
    "print(f'F1 Score: {f1:.2f}')\n",
    "\n",
    "print(classification_report(ytest, Ypred))"
   ]
  },
  {
   "cell_type": "markdown",
   "id": "95e1d600",
   "metadata": {},
   "source": [
    "# alpha mouse"
   ]
  },
  {
   "cell_type": "code",
   "execution_count": 9,
   "id": "1cfc46e7",
   "metadata": {},
   "outputs": [],
   "source": [
    "Xtrain, Xtest, ytrain, ytest = train_test_split(data_alpha_mouse, data_alpha_mouse['antigen.epitope'], test_size=0.2, random_state=42)"
   ]
  },
  {
   "cell_type": "code",
   "execution_count": 10,
   "id": "74ab752b",
   "metadata": {},
   "outputs": [
    {
     "name": "stderr",
     "output_type": "stream",
     "text": [
      "C:\\Users\\54284\\AppData\\Roaming\\Python\\Python311\\site-packages\\tcrdist\\repertoire.py:159: UserWarning: cell_df needs a counts column to track clonal number of frequency\n",
      "\n",
      "  self._validate_cell_df()\n",
      "C:\\Users\\54284\\AppData\\Roaming\\Python\\Python311\\site-packages\\tcrdist\\repertoire.py:791: UserWarning: No 'count' column provided; count column set to 1\n",
      "  warnings.warn(\"No 'count' column provided; count column set to 1\")\n",
      "C:\\Users\\54284\\AppData\\Roaming\\Python\\Python311\\site-packages\\tcrdist\\repertoire.py:833: FutureWarning: The provided callable <function sum at 0x00000214294D8900> is currently using SeriesGroupBy.sum. In a future version of pandas, the provided callable will be used directly. To keep current behavior pass the string \"sum\" instead.\n",
      "  clones = cell_df.groupby(index_cols)['count'].agg(np.sum).reset_index()\n",
      "C:\\Users\\54284\\AppData\\Roaming\\Python\\Python311\\site-packages\\tcrdist\\repertoire.py:159: UserWarning: cell_df needs a counts column to track clonal number of frequency\n",
      "\n",
      "  self._validate_cell_df()\n",
      "C:\\Users\\54284\\AppData\\Roaming\\Python\\Python311\\site-packages\\tcrdist\\repertoire.py:791: UserWarning: No 'count' column provided; count column set to 1\n",
      "  warnings.warn(\"No 'count' column provided; count column set to 1\")\n",
      "C:\\Users\\54284\\AppData\\Roaming\\Python\\Python311\\site-packages\\tcrdist\\repertoire.py:833: FutureWarning: The provided callable <function sum at 0x00000214294D8900> is currently using SeriesGroupBy.sum. In a future version of pandas, the provided callable will be used directly. To keep current behavior pass the string \"sum\" instead.\n",
      "  clones = cell_df.groupby(index_cols)['count'].agg(np.sum).reset_index()\n"
     ]
    }
   ],
   "source": [
    "Xtrain_  = TCRrep(cell_df = Xtrain, \n",
    "            organism = 'mouse', \n",
    "            chains = ['alpha'], \n",
    "            db_file = 'alphabeta_gammadelta_db.tsv')\n",
    "\n",
    "ytrain = Xtrain_.clone_df['antigen.epitope']\n",
    "Xtrain = Xtrain_.pw_alpha\n",
    "\n",
    "Xtest_ = TCRrep(cell_df = Xtest,              \n",
    "            organism = 'mouse', \n",
    "            chains = ['alpha'], \n",
    "            compute_distances = False)\n",
    "\n",
    "Xtest_.compute_rect_distances(df = Xtest_.clone_df, df2 = Xtrain_.clone_df)\n",
    "\n",
    "Xtest = Xtest_.rw_alpha\n",
    "ytest = Xtest_.clone_df['antigen.epitope']"
   ]
  },
  {
   "cell_type": "code",
   "execution_count": 11,
   "id": "6ea93747",
   "metadata": {},
   "outputs": [
    {
     "name": "stdout",
     "output_type": "stream",
     "text": [
      "Accuracy: 0.68\n",
      "F1 Score: 0.60\n",
      "              precision    recall  f1-score   support\n",
      "\n",
      "   ASNENMETM       0.58      0.63      0.61        63\n",
      "   HGIRNASFI       0.73      0.61      0.67        59\n",
      "   KAVYNFATC       0.75      0.21      0.33        14\n",
      "   LSLRNPILV       0.37      0.44      0.40        25\n",
      "   SQLLNAKYL       0.57      0.50      0.53         8\n",
      "  SSLENFRAYV       0.68      0.76      0.72        92\n",
      "    SSPPMFRV       0.71      0.66      0.68        38\n",
      "   SSYRRPVGI       0.80      0.80      0.80       120\n",
      "    TVYGFCLL       0.59      0.65      0.62        20\n",
      "\n",
      "    accuracy                           0.68       439\n",
      "   macro avg       0.64      0.59      0.60       439\n",
      "weighted avg       0.69      0.68      0.68       439\n",
      "\n"
     ]
    }
   ],
   "source": [
    "knn = KNeighborsClassifier(n_neighbors=5, metric='precomputed', weights='distance')\n",
    "\n",
    "# Fit the classifier on the training data\n",
    "model=knn.fit(Xtrain, ytrain)\n",
    "\n",
    "# Make a prediction on the training data\n",
    "Ypred=model.predict(Xtest)\n",
    "\n",
    "\n",
    "accuracy = accuracy_score(ytest, Ypred)\n",
    "f1 = f1_score(ytest, Ypred, average='macro') \n",
    "\n",
    "print(f'Accuracy: {accuracy:.2f}')\n",
    "print(f'F1 Score: {f1:.2f}')\n",
    "\n",
    "print(classification_report(ytest, Ypred))"
   ]
  },
  {
   "cell_type": "markdown",
   "id": "28790618",
   "metadata": {},
   "source": [
    "# beta mouse"
   ]
  },
  {
   "cell_type": "code",
   "execution_count": 12,
   "id": "cd824535",
   "metadata": {},
   "outputs": [],
   "source": [
    "Xtrain, Xtest, ytrain, ytest = train_test_split(data_beta_mouse, data_beta_mouse['antigen.epitope'], test_size=0.2, random_state=42)"
   ]
  },
  {
   "cell_type": "code",
   "execution_count": 13,
   "id": "f2bbee02",
   "metadata": {},
   "outputs": [
    {
     "name": "stderr",
     "output_type": "stream",
     "text": [
      "C:\\Users\\54284\\AppData\\Roaming\\Python\\Python311\\site-packages\\tcrdist\\repertoire.py:159: UserWarning: cell_df needs a counts column to track clonal number of frequency\n",
      "\n",
      "  self._validate_cell_df()\n",
      "C:\\Users\\54284\\AppData\\Roaming\\Python\\Python311\\site-packages\\tcrdist\\repertoire.py:791: UserWarning: No 'count' column provided; count column set to 1\n",
      "  warnings.warn(\"No 'count' column provided; count column set to 1\")\n",
      "C:\\Users\\54284\\AppData\\Roaming\\Python\\Python311\\site-packages\\tcrdist\\repertoire.py:833: FutureWarning: The provided callable <function sum at 0x00000214294D8900> is currently using SeriesGroupBy.sum. In a future version of pandas, the provided callable will be used directly. To keep current behavior pass the string \"sum\" instead.\n",
      "  clones = cell_df.groupby(index_cols)['count'].agg(np.sum).reset_index()\n",
      "C:\\Users\\54284\\AppData\\Roaming\\Python\\Python311\\site-packages\\tcrdist\\repertoire.py:159: UserWarning: cell_df needs a counts column to track clonal number of frequency\n",
      "\n",
      "  self._validate_cell_df()\n",
      "C:\\Users\\54284\\AppData\\Roaming\\Python\\Python311\\site-packages\\tcrdist\\repertoire.py:791: UserWarning: No 'count' column provided; count column set to 1\n",
      "  warnings.warn(\"No 'count' column provided; count column set to 1\")\n",
      "C:\\Users\\54284\\AppData\\Roaming\\Python\\Python311\\site-packages\\tcrdist\\repertoire.py:833: FutureWarning: The provided callable <function sum at 0x00000214294D8900> is currently using SeriesGroupBy.sum. In a future version of pandas, the provided callable will be used directly. To keep current behavior pass the string \"sum\" instead.\n",
      "  clones = cell_df.groupby(index_cols)['count'].agg(np.sum).reset_index()\n"
     ]
    }
   ],
   "source": [
    "Xtrain_  = TCRrep(cell_df = Xtrain, \n",
    "            organism = 'mouse', \n",
    "            chains = ['beta'], \n",
    "            db_file = 'alphabeta_gammadelta_db.tsv')\n",
    "\n",
    "ytrain = Xtrain_.clone_df['antigen.epitope']\n",
    "Xtrain = Xtrain_.pw_beta\n",
    "\n",
    "Xtest_ = TCRrep(cell_df = Xtest,           \n",
    "            organism = 'mouse', \n",
    "            chains = ['beta'], \n",
    "            compute_distances = False)\n",
    "\n",
    "Xtest_.compute_rect_distances(df = Xtest_.clone_df, df2 = Xtrain_.clone_df)\n",
    "\n",
    "Xtest = Xtest_.rw_beta\n",
    "ytest = Xtest_.clone_df['antigen.epitope']"
   ]
  },
  {
   "cell_type": "code",
   "execution_count": 14,
   "id": "7acd6a02",
   "metadata": {},
   "outputs": [
    {
     "name": "stdout",
     "output_type": "stream",
     "text": [
      "Accuracy: 0.78\n",
      "F1 Score: 0.72\n",
      "              precision    recall  f1-score   support\n",
      "\n",
      "   ASNENMETM       0.84      0.72      0.77        71\n",
      "   HGIRNASFI       0.66      0.78      0.71        59\n",
      "   KAVYNFATC       0.62      0.42      0.50        12\n",
      "   LSLRNPILV       0.73      0.79      0.76        28\n",
      "    RALEYKNL       0.65      0.50      0.56        40\n",
      "   SQLLNAKYL       0.75      0.96      0.84        28\n",
      "  SSLENFRAYV       0.87      0.76      0.81        96\n",
      "    SSPPMFRV       0.86      0.92      0.89        66\n",
      "   SSYRRPVGI       0.80      0.87      0.83       127\n",
      "    TVYGFCLL       0.64      0.50      0.56        14\n",
      "\n",
      "    accuracy                           0.78       541\n",
      "   macro avg       0.74      0.72      0.72       541\n",
      "weighted avg       0.78      0.78      0.78       541\n",
      "\n"
     ]
    }
   ],
   "source": [
    "knn = KNeighborsClassifier(n_neighbors=5, metric='precomputed', weights='distance')\n",
    "\n",
    "# Fit the classifier on the training data\n",
    "model=knn.fit(Xtrain, ytrain)\n",
    "\n",
    "# Make a prediction on the training data\n",
    "Ypred=model.predict(Xtest)\n",
    "\n",
    "\n",
    "accuracy = accuracy_score(ytest, Ypred)\n",
    "f1 = f1_score(ytest, Ypred, average='macro') \n",
    "\n",
    "print(f'Accuracy: {accuracy:.2f}')\n",
    "print(f'F1 Score: {f1:.2f}')\n",
    "\n",
    "print(classification_report(ytest, Ypred))"
   ]
  },
  {
   "cell_type": "code",
   "execution_count": null,
   "id": "ca73a0db",
   "metadata": {},
   "outputs": [],
   "source": []
  }
 ],
 "metadata": {
  "kernelspec": {
   "display_name": "Python 3 (ipykernel)",
   "language": "python",
   "name": "python3"
  },
  "language_info": {
   "codemirror_mode": {
    "name": "ipython",
    "version": 3
   },
   "file_extension": ".py",
   "mimetype": "text/x-python",
   "name": "python",
   "nbconvert_exporter": "python",
   "pygments_lexer": "ipython3",
   "version": "3.11.9"
  }
 },
 "nbformat": 4,
 "nbformat_minor": 5
}
