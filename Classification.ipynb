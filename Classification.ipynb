{
 "cells": [
  {
   "cell_type": "markdown",
   "id": "ba092965",
   "metadata": {},
   "source": [
    "This notebook is about classifying tcr based on its specificity. We use k-neighbours here. Considering the dataset size and the complexity of tcr, for human, we pick the most 10 antigen epitopes(for both gene). For mouse, for each gene, we pick the most 10 antigen epitopes separately."
   ]
  },
  {
   "cell_type": "code",
   "execution_count": 129,
   "id": "9c9b391f",
   "metadata": {},
   "outputs": [],
   "source": [
    "import pandas as pd\n",
    "import numpy as np\n",
    "from tcrdist.repertoire import TCRrep\n",
    "from sklearn.neighbors import KNeighborsClassifier\n",
    "from sklearn.model_selection import train_test_split\n",
    "from sklearn.metrics import accuracy_score, f1_score, classification_report"
   ]
  },
  {
   "cell_type": "code",
   "execution_count": 185,
   "id": "e2b78845-12ca-477e-8b9e-bdc318accd24",
   "metadata": {},
   "outputs": [],
   "source": [
    "def sample(dataset):\n",
    "    total_samples = 15000\n",
    "\n",
    "    group_sizes = dataset['antigen.epitope'].value_counts(normalize=True)\n",
    "\n",
    "    samples_per_group = np.floor(group_sizes * total_samples).astype(int)\n",
    "\n",
    "    stratified_sample = dataset.groupby('antigen.epitope', group_keys=False).apply(\n",
    "    lambda x: x.sample(n=min(len(x), samples_per_group[x.name]))\n",
    "    )\n",
    "\n",
    "    return stratified_sample"
   ]
  },
  {
   "cell_type": "code",
   "execution_count": 186,
   "id": "65c5c7b5",
   "metadata": {},
   "outputs": [
    {
     "name": "stderr",
     "output_type": "stream",
     "text": [
      "C:\\Users\\54284\\AppData\\Local\\Temp\\ipykernel_10928\\1993068627.py:8: DeprecationWarning: DataFrameGroupBy.apply operated on the grouping columns. This behavior is deprecated, and in a future version of pandas the grouping columns will be excluded from the operation. Either pass `include_groups=False` to exclude the groupings or explicitly select the grouping columns after groupby to silence this warning.\n",
      "  stratified_sample = dataset.groupby('antigen.epitope', group_keys=False).apply(\n",
      "C:\\Users\\54284\\AppData\\Local\\Temp\\ipykernel_10928\\1993068627.py:8: DeprecationWarning: DataFrameGroupBy.apply operated on the grouping columns. This behavior is deprecated, and in a future version of pandas the grouping columns will be excluded from the operation. Either pass `include_groups=False` to exclude the groupings or explicitly select the grouping columns after groupby to silence this warning.\n",
      "  stratified_sample = dataset.groupby('antigen.epitope', group_keys=False).apply(\n"
     ]
    }
   ],
   "source": [
    "# load data\n",
    "data = pd.read_csv('vdjdb.txt', sep = '\\t')\n",
    "data = data.drop(['web.method', 'web.method.seq', 'web.cdr3fix.nc','web.cdr3fix.unmp','reference.id', 'method', 'meta', 'cdr3fix'], axis=1)\n",
    "data_clean = data.dropna()\n",
    "# top10 = data_clean['antigen.epitope'].value_counts().head(10).index\n",
    "\n",
    "# human alpha\n",
    "data_alpha = data_clean[(data_clean['gene'] == 'TRA')& (data_clean['complex.id'] != 0)]\n",
    "data_alpha_human_test = data_alpha[data_alpha['species'] == 'HomoSapiens']\n",
    "data_alpha_human_test = data_alpha_human_test.rename(columns = {'gene':'gene_a',\n",
    "                                           'cdr3':'cdr3_a_aa',\n",
    "                                           'v.segm':'v_a_gene',\n",
    "                                           'j.segm':'j_a_gene'})\n",
    "top10_alpha = data_alpha_human_test['antigen.epitope'].value_counts().head(10).index\n",
    "alpha_top10_classification = data_alpha_human_test[data_alpha_human_test['antigen.epitope'].isin(top10_alpha)]\n",
    "alpha_top10_classification = sample(alpha_top10_classification)\n",
    "\n",
    "# human beta\n",
    "data_beta = data_clean[(data_clean['gene'] == 'TRB')& (data_clean['complex.id'] != 0)]\n",
    "data_test_human_beta = data_beta[data_beta['species'] == 'HomoSapiens']\n",
    "data_test_human_beta = data_test_human_beta.rename(columns = {'gene':'gene_b',\n",
    "                                           'cdr3':'cdr3_b_aa',\n",
    "                                           'v.segm':'v_b_gene',\n",
    "                                           'j.segm':'j_b_gene'})\n",
    "top10_beta = data_test_human_beta['antigen.epitope'].value_counts().head(10).index\n",
    "beta_top10_classification = data_test_human_beta[data_test_human_beta['antigen.epitope'].isin(top10_beta)]\n",
    "beta_top10_classification = sample(beta_top10_classification)\n",
    "\n",
    "# mouse alpha\n",
    "data_alpha = data_clean[(data_clean['gene'] == 'TRA')]\n",
    "data_alpha_mouse = data_alpha[(data_alpha['species'] == 'MusMusculus')]\n",
    "data_alpha_mouse = data_alpha_mouse.rename(columns = {'gene':'gene_a',\n",
    "                                           'cdr3':'cdr3_a_aa',\n",
    "                                           'v.segm':'v_a_gene',\n",
    "                                           'j.segm':'j_a_gene'})\n",
    "top10_mouse_alpha = data_alpha_mouse['antigen.epitope'].value_counts().head(10).index\n",
    "data_alpha_mouse = data_alpha_mouse[data_alpha_mouse['antigen.epitope'].isin(top10_mouse_alpha)]\n",
    "\n",
    "# mouse beta\n",
    "data_beta = data_clean[(data_clean['gene'] == 'TRB')]\n",
    "data_beta_mouse = data_beta[(data_beta['species'] == 'MusMusculus')]\n",
    "data_beta_mouse = data_beta_mouse.rename(columns = {'gene':'gene_b',\n",
    "                                           'cdr3':'cdr3_b_aa',\n",
    "                                           'v.segm':'v_b_gene',\n",
    "                                           'j.segm':'j_b_gene'})\n",
    "top10_mouse_beta = data_beta_mouse['antigen.epitope'].value_counts().head(10).index\n",
    "data_beta_mouse = data_beta_mouse[data_beta_mouse['antigen.epitope'].isin(top10_mouse_beta)]"
   ]
  },
  {
   "cell_type": "markdown",
   "id": "5e41557e",
   "metadata": {},
   "source": [
    "# Alpha human"
   ]
  },
  {
   "cell_type": "code",
   "execution_count": 193,
   "id": "b0cb185e",
   "metadata": {},
   "outputs": [],
   "source": [
    "Xtrain, Xtest, ytrain, ytest = train_test_split(alpha_top10_classification, alpha_top10_classification['antigen.epitope'], test_size=0.4, random_state=22)"
   ]
  },
  {
   "cell_type": "code",
   "execution_count": 194,
   "id": "dc510034",
   "metadata": {},
   "outputs": [
    {
     "name": "stderr",
     "output_type": "stream",
     "text": [
      "C:\\Users\\54284\\AppData\\Roaming\\Python\\Python311\\site-packages\\tcrdist\\repertoire.py:159: UserWarning: cell_df needs a counts column to track clonal number of frequency\n",
      "\n",
      "  self._validate_cell_df()\n",
      "C:\\Users\\54284\\AppData\\Roaming\\Python\\Python311\\site-packages\\tcrdist\\repertoire.py:791: UserWarning: No 'count' column provided; count column set to 1\n",
      "  warnings.warn(\"No 'count' column provided; count column set to 1\")\n",
      "C:\\Users\\54284\\AppData\\Roaming\\Python\\Python311\\site-packages\\tcrdist\\repertoire.py:833: FutureWarning: The provided callable <function sum at 0x000001C25B5293A0> is currently using SeriesGroupBy.sum. In a future version of pandas, the provided callable will be used directly. To keep current behavior pass the string \"sum\" instead.\n",
      "  clones = cell_df.groupby(index_cols)['count'].agg(np.sum).reset_index()\n",
      "C:\\Users\\54284\\AppData\\Roaming\\Python\\Python311\\site-packages\\tcrdist\\repertoire.py:159: UserWarning: cell_df needs a counts column to track clonal number of frequency\n",
      "\n",
      "  self._validate_cell_df()\n",
      "C:\\Users\\54284\\AppData\\Roaming\\Python\\Python311\\site-packages\\tcrdist\\repertoire.py:791: UserWarning: No 'count' column provided; count column set to 1\n",
      "  warnings.warn(\"No 'count' column provided; count column set to 1\")\n",
      "C:\\Users\\54284\\AppData\\Roaming\\Python\\Python311\\site-packages\\tcrdist\\repertoire.py:833: FutureWarning: The provided callable <function sum at 0x000001C25B5293A0> is currently using SeriesGroupBy.sum. In a future version of pandas, the provided callable will be used directly. To keep current behavior pass the string \"sum\" instead.\n",
      "  clones = cell_df.groupby(index_cols)['count'].agg(np.sum).reset_index()\n"
     ]
    }
   ],
   "source": [
    "Xtrain_  = TCRrep(cell_df = Xtrain, \n",
    "            organism = 'human', \n",
    "            chains = ['alpha'], \n",
    "            db_file = 'alphabeta_gammadelta_db.tsv')\n",
    "\n",
    "ytrain = Xtrain_.clone_df['antigen.epitope']\n",
    "Xtrain = Xtrain_.pw_alpha\n",
    "\n",
    "Xtest_ = TCRrep(cell_df = Xtest,             \n",
    "            organism = 'human', \n",
    "            chains = ['alpha'], \n",
    "            compute_distances = False)\n",
    "\n",
    "Xtest_.compute_rect_distances(df = Xtest_.clone_df, df2 = Xtrain_.clone_df)\n",
    "\n",
    "Xtest = Xtest_.rw_alpha\n",
    "ytest = Xtest_.clone_df['antigen.epitope']"
   ]
  },
  {
   "cell_type": "code",
   "execution_count": 195,
   "id": "5f153ab6",
   "metadata": {},
   "outputs": [
    {
     "name": "stdout",
     "output_type": "stream",
     "text": [
      "Accuracy: 0.71\n",
      "F1 Score: 0.46\n",
      "                precision    recall  f1-score   support\n",
      "\n",
      "    AVFDRKSDAK       0.09      0.03      0.05       498\n",
      "     GILGFVFTL       0.75      0.69      0.71       568\n",
      "     IVTDFSVIK       0.50      0.22      0.31       218\n",
      "     KLGGALQAK       0.74      0.91      0.82      3758\n",
      "     NLVPMVATV       0.93      0.41      0.57       164\n",
      "      RAKFKQLL       0.63      0.43      0.51       325\n",
      "     RLRAEAQVK       0.00      0.00      0.00       114\n",
      "     SPRWYFYYL       0.87      0.18      0.29       114\n",
      "TFEYVSQPFLMDLE       0.83      0.95      0.89       112\n",
      "     YLQPRTFLL       0.61      0.40      0.49       127\n",
      "\n",
      "      accuracy                           0.71      5998\n",
      "     macro avg       0.60      0.42      0.46      5998\n",
      "  weighted avg       0.66      0.71      0.67      5998\n",
      "\n"
     ]
    }
   ],
   "source": [
    "knn = KNeighborsClassifier(n_neighbors=35, metric='precomputed', weights='distance')\n",
    "\n",
    "# Fit the classifier on the training data\n",
    "model=knn.fit(Xtrain, ytrain)\n",
    "\n",
    "# Make a prediction on the training data\n",
    "Ypred=model.predict(Xtest)\n",
    "\n",
    "\n",
    "accuracy = accuracy_score(ytest, Ypred)\n",
    "f1 = f1_score(ytest, Ypred, average='macro') \n",
    "\n",
    "print(f'Accuracy: {accuracy:.2f}')\n",
    "print(f'F1 Score: {f1:.2f}')\n",
    "\n",
    "print(classification_report(ytest, Ypred))"
   ]
  },
  {
   "cell_type": "markdown",
   "id": "e3bb448f",
   "metadata": {},
   "source": [
    "# beta human"
   ]
  },
  {
   "cell_type": "code",
   "execution_count": 199,
   "id": "d0a885d8",
   "metadata": {},
   "outputs": [],
   "source": [
    "Xtrain, Xtest, ytrain, ytest = train_test_split(beta_top10_classification, beta_top10_classification['antigen.epitope'], test_size=0.4, random_state=12)"
   ]
  },
  {
   "cell_type": "code",
   "execution_count": 200,
   "id": "e3a05098",
   "metadata": {},
   "outputs": [
    {
     "name": "stderr",
     "output_type": "stream",
     "text": [
      "C:\\Users\\54284\\AppData\\Roaming\\Python\\Python311\\site-packages\\tcrdist\\repertoire.py:159: UserWarning: cell_df needs a counts column to track clonal number of frequency\n",
      "\n",
      "  self._validate_cell_df()\n",
      "C:\\Users\\54284\\AppData\\Roaming\\Python\\Python311\\site-packages\\tcrdist\\repertoire.py:791: UserWarning: No 'count' column provided; count column set to 1\n",
      "  warnings.warn(\"No 'count' column provided; count column set to 1\")\n",
      "C:\\Users\\54284\\AppData\\Roaming\\Python\\Python311\\site-packages\\tcrdist\\repertoire.py:833: FutureWarning: The provided callable <function sum at 0x000001C25B5293A0> is currently using SeriesGroupBy.sum. In a future version of pandas, the provided callable will be used directly. To keep current behavior pass the string \"sum\" instead.\n",
      "  clones = cell_df.groupby(index_cols)['count'].agg(np.sum).reset_index()\n",
      "C:\\Users\\54284\\AppData\\Roaming\\Python\\Python311\\site-packages\\tcrdist\\repertoire.py:159: UserWarning: cell_df needs a counts column to track clonal number of frequency\n",
      "\n",
      "  self._validate_cell_df()\n",
      "C:\\Users\\54284\\AppData\\Roaming\\Python\\Python311\\site-packages\\tcrdist\\repertoire.py:791: UserWarning: No 'count' column provided; count column set to 1\n",
      "  warnings.warn(\"No 'count' column provided; count column set to 1\")\n",
      "C:\\Users\\54284\\AppData\\Roaming\\Python\\Python311\\site-packages\\tcrdist\\repertoire.py:833: FutureWarning: The provided callable <function sum at 0x000001C25B5293A0> is currently using SeriesGroupBy.sum. In a future version of pandas, the provided callable will be used directly. To keep current behavior pass the string \"sum\" instead.\n",
      "  clones = cell_df.groupby(index_cols)['count'].agg(np.sum).reset_index()\n"
     ]
    }
   ],
   "source": [
    "Xtrain_  = TCRrep(cell_df = Xtrain, \n",
    "            organism = 'human', \n",
    "            chains = ['beta'], \n",
    "            db_file = 'alphabeta_gammadelta_db.tsv')\n",
    "\n",
    "ytrain = Xtrain_.clone_df['antigen.epitope']\n",
    "Xtrain = Xtrain_.pw_beta\n",
    "\n",
    "Xtest_ = TCRrep(cell_df = Xtest,               \n",
    "            organism = 'human', \n",
    "            chains = ['beta'], \n",
    "            compute_distances = False)\n",
    "\n",
    "Xtest_.compute_rect_distances(df = Xtest_.clone_df, df2 = Xtrain_.clone_df)\n",
    "\n",
    "Xtest = Xtest_.rw_beta\n",
    "ytest = Xtest_.clone_df['antigen.epitope']"
   ]
  },
  {
   "cell_type": "code",
   "execution_count": 201,
   "id": "465a7d52",
   "metadata": {},
   "outputs": [
    {
     "name": "stdout",
     "output_type": "stream",
     "text": [
      "Accuracy: 0.71\n",
      "F1 Score: 0.43\n",
      "                precision    recall  f1-score   support\n",
      "\n",
      "    AVFDRKSDAK       0.09      0.04      0.05       475\n",
      "     GILGFVFTL       0.75      0.74      0.75       571\n",
      "     IVTDFSVIK       0.50      0.28      0.36       201\n",
      "     KLGGALQAK       0.74      0.91      0.82      3785\n",
      "     NLVPMVATV       0.90      0.40      0.56       161\n",
      "      RAKFKQLL       0.53      0.40      0.46       327\n",
      "     RLRAEAQVK       0.00      0.00      0.00       114\n",
      "     SPRWYFYYL       0.81      0.21      0.34       123\n",
      "TFEYVSQPFLMDLE       0.74      0.32      0.44       111\n",
      "     YLQPRTFLL       0.77      0.45      0.57       130\n",
      "\n",
      "      accuracy                           0.71      5998\n",
      "     macro avg       0.58      0.37      0.43      5998\n",
      "  weighted avg       0.66      0.71      0.67      5998\n",
      "\n"
     ]
    }
   ],
   "source": [
    "knn = KNeighborsClassifier(n_neighbors=13, metric='precomputed', weights='distance')\n",
    "\n",
    "# Fit the classifier on the training data\n",
    "model=knn.fit(Xtrain, ytrain)\n",
    "\n",
    "# Make a prediction on the training data\n",
    "Ypred=model.predict(Xtest)\n",
    "\n",
    "\n",
    "accuracy = accuracy_score(ytest, Ypred)\n",
    "f1 = f1_score(ytest, Ypred, average='macro') \n",
    "\n",
    "print(f'Accuracy: {accuracy:.2f}')\n",
    "print(f'F1 Score: {f1:.2f}')\n",
    "\n",
    "print(classification_report(ytest, Ypred))"
   ]
  },
  {
   "cell_type": "markdown",
   "id": "95e1d600",
   "metadata": {},
   "source": [
    "# alpha mouse"
   ]
  },
  {
   "cell_type": "code",
   "execution_count": 138,
   "id": "1cfc46e7",
   "metadata": {},
   "outputs": [],
   "source": [
    "Xtrain, Xtest, ytrain, ytest = train_test_split(data_alpha_mouse, data_alpha_mouse['antigen.epitope'], test_size=0.2, random_state=42)"
   ]
  },
  {
   "cell_type": "code",
   "execution_count": 139,
   "id": "74ab752b",
   "metadata": {},
   "outputs": [
    {
     "name": "stderr",
     "output_type": "stream",
     "text": [
      "C:\\Users\\54284\\AppData\\Roaming\\Python\\Python311\\site-packages\\tcrdist\\repertoire.py:159: UserWarning: cell_df needs a counts column to track clonal number of frequency\n",
      "\n",
      "  self._validate_cell_df()\n",
      "C:\\Users\\54284\\AppData\\Roaming\\Python\\Python311\\site-packages\\tcrdist\\repertoire.py:791: UserWarning: No 'count' column provided; count column set to 1\n",
      "  warnings.warn(\"No 'count' column provided; count column set to 1\")\n",
      "C:\\Users\\54284\\AppData\\Roaming\\Python\\Python311\\site-packages\\tcrdist\\repertoire.py:833: FutureWarning: The provided callable <function sum at 0x000001C25B5293A0> is currently using SeriesGroupBy.sum. In a future version of pandas, the provided callable will be used directly. To keep current behavior pass the string \"sum\" instead.\n",
      "  clones = cell_df.groupby(index_cols)['count'].agg(np.sum).reset_index()\n",
      "C:\\Users\\54284\\AppData\\Roaming\\Python\\Python311\\site-packages\\tcrdist\\repertoire.py:159: UserWarning: cell_df needs a counts column to track clonal number of frequency\n",
      "\n",
      "  self._validate_cell_df()\n",
      "C:\\Users\\54284\\AppData\\Roaming\\Python\\Python311\\site-packages\\tcrdist\\repertoire.py:791: UserWarning: No 'count' column provided; count column set to 1\n",
      "  warnings.warn(\"No 'count' column provided; count column set to 1\")\n",
      "C:\\Users\\54284\\AppData\\Roaming\\Python\\Python311\\site-packages\\tcrdist\\repertoire.py:833: FutureWarning: The provided callable <function sum at 0x000001C25B5293A0> is currently using SeriesGroupBy.sum. In a future version of pandas, the provided callable will be used directly. To keep current behavior pass the string \"sum\" instead.\n",
      "  clones = cell_df.groupby(index_cols)['count'].agg(np.sum).reset_index()\n"
     ]
    }
   ],
   "source": [
    "Xtrain_  = TCRrep(cell_df = Xtrain, \n",
    "            organism = 'mouse', \n",
    "            chains = ['alpha'], \n",
    "            db_file = 'alphabeta_gammadelta_db.tsv')\n",
    "\n",
    "ytrain = Xtrain_.clone_df['antigen.epitope']\n",
    "Xtrain = Xtrain_.pw_alpha\n",
    "\n",
    "Xtest_ = TCRrep(cell_df = Xtest,              \n",
    "            organism = 'mouse', \n",
    "            chains = ['alpha'], \n",
    "            compute_distances = False)\n",
    "\n",
    "Xtest_.compute_rect_distances(df = Xtest_.clone_df, df2 = Xtrain_.clone_df)\n",
    "\n",
    "Xtest = Xtest_.rw_alpha\n",
    "ytest = Xtest_.clone_df['antigen.epitope']"
   ]
  },
  {
   "cell_type": "code",
   "execution_count": 140,
   "id": "6ea93747",
   "metadata": {},
   "outputs": [
    {
     "name": "stdout",
     "output_type": "stream",
     "text": [
      "Accuracy: 0.68\n",
      "F1 Score: 0.60\n",
      "              precision    recall  f1-score   support\n",
      "\n",
      "   ASNENMETM       0.58      0.63      0.61        63\n",
      "   HGIRNASFI       0.73      0.61      0.67        59\n",
      "   KAVYNFATC       0.75      0.21      0.33        14\n",
      "   LSLRNPILV       0.37      0.44      0.40        25\n",
      "   SQLLNAKYL       0.57      0.50      0.53         8\n",
      "  SSLENFRAYV       0.68      0.76      0.72        92\n",
      "    SSPPMFRV       0.71      0.66      0.68        38\n",
      "   SSYRRPVGI       0.80      0.80      0.80       120\n",
      "    TVYGFCLL       0.59      0.65      0.62        20\n",
      "\n",
      "    accuracy                           0.68       439\n",
      "   macro avg       0.64      0.59      0.60       439\n",
      "weighted avg       0.69      0.68      0.68       439\n",
      "\n"
     ]
    }
   ],
   "source": [
    "knn = KNeighborsClassifier(n_neighbors=5, metric='precomputed', weights='distance')\n",
    "\n",
    "# Fit the classifier on the training data\n",
    "model=knn.fit(Xtrain, ytrain)\n",
    "\n",
    "# Make a prediction on the training data\n",
    "Ypred=model.predict(Xtest)\n",
    "\n",
    "\n",
    "accuracy = accuracy_score(ytest, Ypred)\n",
    "f1 = f1_score(ytest, Ypred, average='macro') \n",
    "\n",
    "print(f'Accuracy: {accuracy:.2f}')\n",
    "print(f'F1 Score: {f1:.2f}')\n",
    "\n",
    "print(classification_report(ytest, Ypred))"
   ]
  },
  {
   "cell_type": "markdown",
   "id": "28790618",
   "metadata": {},
   "source": [
    "# beta mouse"
   ]
  },
  {
   "cell_type": "code",
   "execution_count": 141,
   "id": "cd824535",
   "metadata": {},
   "outputs": [],
   "source": [
    "Xtrain, Xtest, ytrain, ytest = train_test_split(data_beta_mouse, data_beta_mouse['antigen.epitope'], test_size=0.2, random_state=42)"
   ]
  },
  {
   "cell_type": "code",
   "execution_count": 142,
   "id": "f2bbee02",
   "metadata": {},
   "outputs": [
    {
     "name": "stderr",
     "output_type": "stream",
     "text": [
      "C:\\Users\\54284\\AppData\\Roaming\\Python\\Python311\\site-packages\\tcrdist\\repertoire.py:159: UserWarning: cell_df needs a counts column to track clonal number of frequency\n",
      "\n",
      "  self._validate_cell_df()\n",
      "C:\\Users\\54284\\AppData\\Roaming\\Python\\Python311\\site-packages\\tcrdist\\repertoire.py:791: UserWarning: No 'count' column provided; count column set to 1\n",
      "  warnings.warn(\"No 'count' column provided; count column set to 1\")\n",
      "C:\\Users\\54284\\AppData\\Roaming\\Python\\Python311\\site-packages\\tcrdist\\repertoire.py:833: FutureWarning: The provided callable <function sum at 0x000001C25B5293A0> is currently using SeriesGroupBy.sum. In a future version of pandas, the provided callable will be used directly. To keep current behavior pass the string \"sum\" instead.\n",
      "  clones = cell_df.groupby(index_cols)['count'].agg(np.sum).reset_index()\n",
      "C:\\Users\\54284\\AppData\\Roaming\\Python\\Python311\\site-packages\\tcrdist\\repertoire.py:159: UserWarning: cell_df needs a counts column to track clonal number of frequency\n",
      "\n",
      "  self._validate_cell_df()\n",
      "C:\\Users\\54284\\AppData\\Roaming\\Python\\Python311\\site-packages\\tcrdist\\repertoire.py:791: UserWarning: No 'count' column provided; count column set to 1\n",
      "  warnings.warn(\"No 'count' column provided; count column set to 1\")\n",
      "C:\\Users\\54284\\AppData\\Roaming\\Python\\Python311\\site-packages\\tcrdist\\repertoire.py:833: FutureWarning: The provided callable <function sum at 0x000001C25B5293A0> is currently using SeriesGroupBy.sum. In a future version of pandas, the provided callable will be used directly. To keep current behavior pass the string \"sum\" instead.\n",
      "  clones = cell_df.groupby(index_cols)['count'].agg(np.sum).reset_index()\n"
     ]
    }
   ],
   "source": [
    "Xtrain_  = TCRrep(cell_df = Xtrain, \n",
    "            organism = 'mouse', \n",
    "            chains = ['beta'], \n",
    "            db_file = 'alphabeta_gammadelta_db.tsv')\n",
    "\n",
    "ytrain = Xtrain_.clone_df['antigen.epitope']\n",
    "Xtrain = Xtrain_.pw_beta\n",
    "\n",
    "Xtest_ = TCRrep(cell_df = Xtest,           \n",
    "            organism = 'mouse', \n",
    "            chains = ['beta'], \n",
    "            compute_distances = False)\n",
    "\n",
    "Xtest_.compute_rect_distances(df = Xtest_.clone_df, df2 = Xtrain_.clone_df)\n",
    "\n",
    "Xtest = Xtest_.rw_beta\n",
    "ytest = Xtest_.clone_df['antigen.epitope']"
   ]
  },
  {
   "cell_type": "code",
   "execution_count": 143,
   "id": "7acd6a02",
   "metadata": {},
   "outputs": [
    {
     "name": "stdout",
     "output_type": "stream",
     "text": [
      "Accuracy: 0.78\n",
      "F1 Score: 0.72\n",
      "              precision    recall  f1-score   support\n",
      "\n",
      "   ASNENMETM       0.84      0.72      0.77        71\n",
      "   HGIRNASFI       0.66      0.78      0.71        59\n",
      "   KAVYNFATC       0.62      0.42      0.50        12\n",
      "   LSLRNPILV       0.73      0.79      0.76        28\n",
      "    RALEYKNL       0.65      0.50      0.56        40\n",
      "   SQLLNAKYL       0.75      0.96      0.84        28\n",
      "  SSLENFRAYV       0.87      0.76      0.81        96\n",
      "    SSPPMFRV       0.86      0.92      0.89        66\n",
      "   SSYRRPVGI       0.80      0.87      0.83       127\n",
      "    TVYGFCLL       0.64      0.50      0.56        14\n",
      "\n",
      "    accuracy                           0.78       541\n",
      "   macro avg       0.74      0.72      0.72       541\n",
      "weighted avg       0.78      0.78      0.78       541\n",
      "\n"
     ]
    }
   ],
   "source": [
    "knn = KNeighborsClassifier(n_neighbors=5, metric='precomputed', weights='distance')\n",
    "\n",
    "# Fit the classifier on the training data\n",
    "model=knn.fit(Xtrain, ytrain)\n",
    "\n",
    "# Make a prediction on the training data\n",
    "Ypred=model.predict(Xtest)\n",
    "\n",
    "\n",
    "accuracy = accuracy_score(ytest, Ypred)\n",
    "f1 = f1_score(ytest, Ypred, average='macro') \n",
    "\n",
    "print(f'Accuracy: {accuracy:.2f}')\n",
    "print(f'F1 Score: {f1:.2f}')\n",
    "\n",
    "print(classification_report(ytest, Ypred))"
   ]
  },
  {
   "cell_type": "code",
   "execution_count": null,
   "id": "ca73a0db",
   "metadata": {},
   "outputs": [],
   "source": []
  }
 ],
 "metadata": {
  "kernelspec": {
   "display_name": "Python 3 (ipykernel)",
   "language": "python",
   "name": "python3"
  },
  "language_info": {
   "codemirror_mode": {
    "name": "ipython",
    "version": 3
   },
   "file_extension": ".py",
   "mimetype": "text/x-python",
   "name": "python",
   "nbconvert_exporter": "python",
   "pygments_lexer": "ipython3",
   "version": "3.11.9"
  }
 },
 "nbformat": 4,
 "nbformat_minor": 5
}
